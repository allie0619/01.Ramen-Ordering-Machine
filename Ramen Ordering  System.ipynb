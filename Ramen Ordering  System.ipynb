{
 "cells": [
  {
   "cell_type": "code",
   "execution_count": null,
   "id": "e800dfa1-3152-4e13-8b67-2d248e9c0e62",
   "metadata": {},
   "outputs": [],
   "source": [
    "#Project _拉麵點餐機\n",
    "\n",
    "print(\"歡迎使用拉麵點餐機~\\n(1)鹽味拉麵 $220 \\n(2)醬油拉麵 $240 \\n(3)豚骨拉麵 $280\")\n",
    "拉麵=input(\"請選擇拉麵口味(輸入:1 or 2 or 3)\")\n",
    "\n",
    "if 拉麵 ==\"1\":\n",
    "    拉麵=220\n",
    "elif 拉麵==\"2\":\n",
    "    拉麵 = 240\n",
    "elif 拉麵==\"3\":\n",
    "    拉麵 = 280\n",
    "else:\n",
    "    print(\"請重新輸入\")\n",
    "\n",
    "加大=input(\"是否加大,豚骨口味+$50 其他口味 +$30(輸入:Y or N)\")\n",
    "if 加大 == \"Y\":\n",
    "    if 拉麵==\"3\":\n",
    "        加大= 50\n",
    "    else:\n",
    "        加大= 30\n",
    "elif 加大 == \"N\":\n",
    "    加大 = 0\n",
    "else:\n",
    "    print(\"請重新輸入\")\n",
    "\n",
    "糖心蛋=input(\"是否加糖心蛋 +$30(輸入:Y or N)\")\n",
    "if 糖心蛋 == \"Y\":\n",
    "    糖心蛋=30\n",
    "elif 糖心蛋 == \"N\":\n",
    "    糖心蛋 = 0\n",
    "else:\n",
    "    print(\"請重新輸入\")\n",
    "叉燒=input(\"是否加叉燒 +$60(輸入:Y or N)\")\n",
    "if 叉燒 == \"Y\":\n",
    "    叉燒=60\n",
    "elif 叉燒 == \"N\":\n",
    "    叉燒= 0\n",
    "else:\n",
    "    print(\"請重新輸入\")\n",
    "\n",
    "print(加大!= 0 and 糖心蛋 != 0 and 叉燒 != 0)\n",
    "\n",
    "if 加大!= 0 and 糖心蛋 != 0 and 叉燒 != 0:\n",
    "    折扣 = 20\n",
    "else:\n",
    "    折扣 = 0\n",
    "\n",
    "總金額=拉麵+加大+糖心蛋+叉燒-折扣\n",
    "print(f\"拉麵{拉麵}+加大{加大}+糖心蛋{糖心蛋}+叉燒{叉燒}-折扣{折扣}\")\n",
    "\n",
    "if 加大==\"Y\" and 糖心蛋 ==\"Y\" and 叉燒 == \"Y\":\n",
    "    print(f\"加好加滿折價$20,總金額${總金額},感謝您的光臨\")\n",
    "else:\n",
    "    print(f\"總金額${總金額},感謝您的光臨\")"
   ]
  }
 ],
 "metadata": {
  "kernelspec": {
   "display_name": "Python 3 (ipykernel)",
   "language": "python",
   "name": "python3"
  },
  "language_info": {
   "codemirror_mode": {
    "name": "ipython",
    "version": 3
   },
   "file_extension": ".py",
   "mimetype": "text/x-python",
   "name": "python",
   "nbconvert_exporter": "python",
   "pygments_lexer": "ipython3",
   "version": "3.11.7"
  }
 },
 "nbformat": 4,
 "nbformat_minor": 5
}
