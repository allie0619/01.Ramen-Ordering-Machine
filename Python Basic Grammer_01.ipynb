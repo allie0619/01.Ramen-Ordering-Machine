{
 "cells": [
  {
   "cell_type": "code",
   "execution_count": 5,
   "id": "87cc86a7-0207-48f8-ab7e-bbe9b1288c71",
   "metadata": {},
   "outputs": [
    {
     "name": "stdout",
     "output_type": "stream",
     "text": [
      "False\n",
      "鮭魚免費吃到飽\n"
     ]
    },
    {
     "name": "stdin",
     "output_type": "stream",
     "text": [
      "請輸入一個整數\n",
      " 2\n"
     ]
    },
    {
     "name": "stdout",
     "output_type": "stream",
     "text": [
      "偶數\n"
     ]
    }
   ],
   "source": [
    "#if/else/elif/nested if syntax\n",
    "\n",
    "#if/else  \n",
    "\n",
    "name=\"林鮭魚\"\n",
    "print(name !=\"林鮭魚\")\n",
    "if name==\"林鮭魚\":\n",
    "     print(\"鮭魚免費吃到飽\")\n",
    "else:\n",
    "     print(\"請付錢\")\n",
    "\n",
    "#測驗一  判斷整數是基數還是偶數\n",
    "number=int(input(\"請輸入一個整數\\n\"))\n",
    "\n",
    "if number % 2  == 0:\n",
    "     print(\"偶數\")\n",
    "else :\n",
    "     print(\"奇數\")\n"
   ]
  },
  {
   "cell_type": "code",
   "execution_count": 6,
   "id": "302677bd-6fc4-4d20-82de-c64bf57c583d",
   "metadata": {},
   "outputs": [
    {
     "name": "stdout",
     "output_type": "stream",
     "text": [
      "作弊不給錢\n"
     ]
    },
    {
     "name": "stdin",
     "output_type": "stream",
     "text": [
      "請輸入您的身高(公分)\n",
      " 162\n",
      "請輸入您的體重(公斤)\n",
      " 62\n"
     ]
    },
    {
     "name": "stdout",
     "output_type": "stream",
     "text": [
      "您的bmi是:23.6(正常體位)\n"
     ]
    }
   ],
   "source": [
    "#elif/nested if\n",
    "\n",
    "score =100\n",
    "cheat =True\n",
    "if score >90:\n",
    "     if cheat:\n",
    "         print(\"作弊不給錢\")\n",
    "     else:\n",
    "         print(\"我就給你100元\")\n",
    "elif score>80:\n",
    "     print(\"我就給你50元\")\n",
    "elif score >70:\n",
    "     print(\"我就給你30元\")\n",
    "else:\n",
    "     print(\"你給我100元\")\n",
    "\n",
    "#測驗二 BMI體重計\n",
    "h1=float(input(\"請輸入您的身高(公分)\\n\"))\n",
    "\n",
    "w1=float(input(\"請輸入您的體重(公斤)\\n\"))\n",
    "\n",
    "bmi=round(w1/(h1/100)**2 ,1)\n",
    "if bmi < 18.5:\n",
    "     print(f\"您的bmi是:{bmi}(體重過輕)\")\n",
    "elif bmi < 24:\n",
    "     print(f\"您的bmi是:{bmi}(正常體位)\")\n",
    "elif bmi < 27:\n",
    "     print(f\"您的bmi是:{bmi}(體重過重)\")\n",
    "elif bmi < 30:\n",
    "     print(f\"您的bmi是:{bmi}(輕度肥胖)\")\n",
    "elif bmi < 35:\n",
    "     print(f\"您的bmi是:{bmi}(中度肥胖)\")\n",
    "else:\n",
    "     print(f\"您的bmi是:{bmi}(重度肥胖)\")"
   ]
  },
  {
   "cell_type": "code",
   "execution_count": 7,
   "id": "f6c56901-e6b1-4a2b-a44d-a6c470938e81",
   "metadata": {},
   "outputs": [
    {
     "name": "stdout",
     "output_type": "stream",
     "text": [
      "False\n",
      "其中一邊是False\n",
      "True\n",
      "我給你100元\n",
      "我帶你出去玩\n",
      "False\n",
      "你給我100元\n"
     ]
    }
   ],
   "source": [
    "#邏輯運算(and ,or ,not)\n",
    "score1= 90\n",
    "score2= 100\n",
    "print(False and True)\n",
    "if score1 ==100 and score2 ==100:\n",
    "     print(\"我給你100元\")\n",
    "     print(\"我帶你出去玩\")\n",
    "else:\n",
    "     print(\"其中一邊是False\")\n",
    "\n",
    "\n",
    "\n",
    "score1= 90\n",
    "score2= 100\n",
    "print(False or True)\n",
    "if score1 ==100 or score2 ==100:\n",
    "     print(\"我給你100元\")\n",
    "     print(\"我帶你出去玩\")\n",
    "else:\n",
    "     print(\"都沒考100分\")\n",
    "\n",
    "\n",
    "\n",
    "score1= 70\n",
    "score2= 90\n",
    "print(not True)\n",
    "if not score1 >80 :\n",
    "     print(\"你給我100元\")\n",
    "else:\n",
    "     print(\"都沒考100分\")"
   ]
  }
 ],
 "metadata": {
  "kernelspec": {
   "display_name": "Python 3 (ipykernel)",
   "language": "python",
   "name": "python3"
  },
  "language_info": {
   "codemirror_mode": {
    "name": "ipython",
    "version": 3
   },
   "file_extension": ".py",
   "mimetype": "text/x-python",
   "name": "python",
   "nbconvert_exporter": "python",
   "pygments_lexer": "ipython3",
   "version": "3.11.7"
  }
 },
 "nbformat": 4,
 "nbformat_minor": 5
}
